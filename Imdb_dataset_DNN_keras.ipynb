{
  "nbformat": 4,
  "nbformat_minor": 0,
  "metadata": {
    "colab": {
      "name": "Imdb_dataset_DNN_keras.ipynb",
      "provenance": [],
      "collapsed_sections": [],
      "toc_visible": true,
      "authorship_tag": "ABX9TyOf84+gPTnFpAz7PNB7Vz8A",
      "include_colab_link": true
    },
    "kernelspec": {
      "name": "python3",
      "display_name": "Python 3"
    }
  },
  "cells": [
    {
      "cell_type": "markdown",
      "metadata": {
        "id": "view-in-github",
        "colab_type": "text"
      },
      "source": [
        "<a href=\"https://colab.research.google.com/github/saurabhsingh1411/imdb_dnn_keras/blob/master/Imdb_dataset_DNN_keras.ipynb\" target=\"_parent\"><img src=\"https://colab.research.google.com/assets/colab-badge.svg\" alt=\"Open In Colab\"/></a>"
      ]
    },
    {
      "cell_type": "markdown",
      "metadata": {
        "id": "ZdBk-B6PMnry"
      },
      "source": [
        "Importing Lib and datsets"
      ]
    },
    {
      "cell_type": "code",
      "metadata": {
        "id": "3keeJh5LMrJR"
      },
      "source": [
        "import tensorflow as tf\n",
        "import pandas as pd\n",
        "import numpy as np\n",
        "from tensorflow.keras.preprocessing.text import Tokenizer\n",
        "from tensorflow.keras.preprocessing.sequence import pad_sequences\n",
        "from sklearn.preprocessing import LabelEncoder\n",
        "from sklearn.model_selection import train_test_split\n",
        "import matplotlib.pyplot as plt\n",
        "import seaborn as sns\n",
        "import tensorflow_datasets as tfds"
      ],
      "execution_count": 6,
      "outputs": []
    },
    {
      "cell_type": "code",
      "metadata": {
        "id": "bt8J7jxYr-_7"
      },
      "source": [
        "dataset=pd.read_csv('IMDB Dataset.csv')"
      ],
      "execution_count": 7,
      "outputs": []
    },
    {
      "cell_type": "code",
      "metadata": {
        "id": "q1fRzWmhsHe2",
        "outputId": "2c109f01-c40f-46cb-976c-3b30f60e07a1",
        "colab": {
          "base_uri": "https://localhost:8080/",
          "height": 34
        }
      },
      "source": [
        "dataset['sentiment'].value_counts().plot"
      ],
      "execution_count": 8,
      "outputs": [
        {
          "output_type": "execute_result",
          "data": {
            "text/plain": [
              "<pandas.plotting._core.PlotAccessor object at 0x7efdfdbcf048>"
            ]
          },
          "metadata": {
            "tags": []
          },
          "execution_count": 8
        }
      ]
    },
    {
      "cell_type": "code",
      "metadata": {
        "id": "N1HaJ1dysHor",
        "outputId": "5b63cf41-b754-431c-cd95-24b16a23ce5a",
        "colab": {
          "base_uri": "https://localhost:8080/",
          "height": 34
        }
      },
      "source": [
        "negative = len(dataset[dataset['sentiment']=='positive'])\n",
        "positive = len(dataset) - negative\n",
        "\n",
        "print('Positive reviews are {} and negative reviews are {} of total {} '.format(positive,negative,len(dataset)))"
      ],
      "execution_count": 9,
      "outputs": [
        {
          "output_type": "stream",
          "text": [
            "Positive reviews are 25000 and negative reviews are 25000 of total 50000 \n"
          ],
          "name": "stdout"
        }
      ]
    },
    {
      "cell_type": "code",
      "metadata": {
        "id": "tZ_pgKtdsHsM",
        "outputId": "2e283e8c-b6b7-49a6-d75c-3e6a20dac640",
        "colab": {
          "base_uri": "https://localhost:8080/",
          "height": 204
        }
      },
      "source": [
        "dataset.head()"
      ],
      "execution_count": 10,
      "outputs": [
        {
          "output_type": "execute_result",
          "data": {
            "text/html": [
              "<div>\n",
              "<style scoped>\n",
              "    .dataframe tbody tr th:only-of-type {\n",
              "        vertical-align: middle;\n",
              "    }\n",
              "\n",
              "    .dataframe tbody tr th {\n",
              "        vertical-align: top;\n",
              "    }\n",
              "\n",
              "    .dataframe thead th {\n",
              "        text-align: right;\n",
              "    }\n",
              "</style>\n",
              "<table border=\"1\" class=\"dataframe\">\n",
              "  <thead>\n",
              "    <tr style=\"text-align: right;\">\n",
              "      <th></th>\n",
              "      <th>review</th>\n",
              "      <th>sentiment</th>\n",
              "    </tr>\n",
              "  </thead>\n",
              "  <tbody>\n",
              "    <tr>\n",
              "      <th>0</th>\n",
              "      <td>One of the other reviewers has mentioned that ...</td>\n",
              "      <td>positive</td>\n",
              "    </tr>\n",
              "    <tr>\n",
              "      <th>1</th>\n",
              "      <td>A wonderful little production. &lt;br /&gt;&lt;br /&gt;The...</td>\n",
              "      <td>positive</td>\n",
              "    </tr>\n",
              "    <tr>\n",
              "      <th>2</th>\n",
              "      <td>I thought this was a wonderful way to spend ti...</td>\n",
              "      <td>positive</td>\n",
              "    </tr>\n",
              "    <tr>\n",
              "      <th>3</th>\n",
              "      <td>Basically there's a family where a little boy ...</td>\n",
              "      <td>negative</td>\n",
              "    </tr>\n",
              "    <tr>\n",
              "      <th>4</th>\n",
              "      <td>Petter Mattei's \"Love in the Time of Money\" is...</td>\n",
              "      <td>positive</td>\n",
              "    </tr>\n",
              "  </tbody>\n",
              "</table>\n",
              "</div>"
            ],
            "text/plain": [
              "                                              review sentiment\n",
              "0  One of the other reviewers has mentioned that ...  positive\n",
              "1  A wonderful little production. <br /><br />The...  positive\n",
              "2  I thought this was a wonderful way to spend ti...  positive\n",
              "3  Basically there's a family where a little boy ...  negative\n",
              "4  Petter Mattei's \"Love in the Time of Money\" is...  positive"
            ]
          },
          "metadata": {
            "tags": []
          },
          "execution_count": 10
        }
      ]
    },
    {
      "cell_type": "code",
      "metadata": {
        "id": "SNiDDvVGsHx6"
      },
      "source": [
        "le=LabelEncoder()\n",
        "\n",
        "X_train,X_test,y_train,y_test=train_test_split(dataset['review'].values,dataset['sentiment'].values,test_size=0.2)"
      ],
      "execution_count": 11,
      "outputs": []
    },
    {
      "cell_type": "code",
      "metadata": {
        "id": "C0yjk8dQuzBo"
      },
      "source": [
        "y_train=le.fit_transform(y_train)\n",
        "y_test=le.fit_transform(y_test)"
      ],
      "execution_count": 12,
      "outputs": []
    },
    {
      "cell_type": "code",
      "metadata": {
        "id": "iC1q-VSZgje1"
      },
      "source": [
        "y_test=np.array(y_test)"
      ],
      "execution_count": 13,
      "outputs": []
    },
    {
      "cell_type": "code",
      "metadata": {
        "id": "mS1pEUg7u-Ns",
        "outputId": "a8d00b12-b2b7-4658-927e-bbb0a7c18b67",
        "colab": {
          "base_uri": "https://localhost:8080/",
          "height": 51
        }
      },
      "source": [
        "print(type(y_train))\n",
        "print(type(y_test))"
      ],
      "execution_count": 14,
      "outputs": [
        {
          "output_type": "stream",
          "text": [
            "<class 'numpy.ndarray'>\n",
            "<class 'numpy.ndarray'>\n"
          ],
          "name": "stdout"
        }
      ]
    },
    {
      "cell_type": "markdown",
      "metadata": {
        "id": "hMWzMtNnvD7t"
      },
      "source": [
        "## Preprocessing Text"
      ]
    },
    {
      "cell_type": "code",
      "metadata": {
        "id": "qRReuvCxu-8t"
      },
      "source": [
        "tokenizer=Tokenizer(num_words=10000,oov_token='<OOV>')\n",
        "tokenizer.fit_on_texts(X_train)\n",
        "word_index=tokenizer.word_index\n",
        "\n",
        "training_seq=tokenizer.texts_to_sequences(X_train)\n",
        "\n",
        "testing_seq=tokenizer.texts_to_sequences(X_test)"
      ],
      "execution_count": 15,
      "outputs": []
    },
    {
      "cell_type": "code",
      "metadata": {
        "id": "aaj3mwDqu-_w"
      },
      "source": [
        "from tensorflow.keras.preprocessing.sequence import pad_sequences\n",
        "\n",
        "training_pad_seq=pad_sequences(training_seq,maxlen=200,truncating='post',padding='pre')\n",
        "testing_pad_seq=pad_sequences(testing_seq,maxlen=200,truncating='post',padding='pre')"
      ],
      "execution_count": 16,
      "outputs": []
    },
    {
      "cell_type": "code",
      "metadata": {
        "id": "Ka3Hws88u_L9",
        "outputId": "2c2491ef-0c99-4a98-d674-68dccfe02f25",
        "colab": {
          "base_uri": "https://localhost:8080/",
          "height": 34
        }
      },
      "source": [
        "print('total unique words',len(word_index))"
      ],
      "execution_count": 17,
      "outputs": [
        {
          "output_type": "stream",
          "text": [
            "total unique words 112349\n"
          ],
          "name": "stdout"
        }
      ]
    },
    {
      "cell_type": "markdown",
      "metadata": {
        "id": "_F56rxTJb9en"
      },
      "source": [
        "## Model Buiulding"
      ]
    },
    {
      "cell_type": "code",
      "metadata": {
        "id": "dwaJpbJ-u_E6"
      },
      "source": [
        "model = tf.keras.Sequential([tf.keras.layers.Embedding(len(word_index) + 1,200,input_length=200,\n",
        "                            trainable=False),\n",
        "                             tf.keras.layers.Bidirectional(tf.keras.layers.LSTM(64)),\n",
        "                             tf.keras.layers.Dropout(0.5),\n",
        "                             tf.keras.layers.Dense(256,activation = 'relu',),\n",
        "                             tf.keras.layers.Dense(128,activation = 'relu'),\n",
        "                             tf.keras.layers.Dropout(0.5),\n",
        "                             tf.keras.layers.Dense(1,activation = tf.nn.sigmoid)])"
      ],
      "execution_count": 18,
      "outputs": []
    },
    {
      "cell_type": "code",
      "metadata": {
        "id": "knKgbrtQu_DX",
        "outputId": "07c663fa-c71b-4097-f76b-ffb8e3cd5d35",
        "colab": {
          "base_uri": "https://localhost:8080/",
          "height": 391
        }
      },
      "source": [
        "model.summary()"
      ],
      "execution_count": 19,
      "outputs": [
        {
          "output_type": "stream",
          "text": [
            "Model: \"sequential\"\n",
            "_________________________________________________________________\n",
            "Layer (type)                 Output Shape              Param #   \n",
            "=================================================================\n",
            "embedding (Embedding)        (None, 200, 200)          22470000  \n",
            "_________________________________________________________________\n",
            "bidirectional (Bidirectional (None, 128)               135680    \n",
            "_________________________________________________________________\n",
            "dropout (Dropout)            (None, 128)               0         \n",
            "_________________________________________________________________\n",
            "dense (Dense)                (None, 256)               33024     \n",
            "_________________________________________________________________\n",
            "dense_1 (Dense)              (None, 128)               32896     \n",
            "_________________________________________________________________\n",
            "dropout_1 (Dropout)          (None, 128)               0         \n",
            "_________________________________________________________________\n",
            "dense_2 (Dense)              (None, 1)                 129       \n",
            "=================================================================\n",
            "Total params: 22,671,729\n",
            "Trainable params: 201,729\n",
            "Non-trainable params: 22,470,000\n",
            "_________________________________________________________________\n"
          ],
          "name": "stdout"
        }
      ]
    },
    {
      "cell_type": "code",
      "metadata": {
        "id": "m7i2GWoHcYNg"
      },
      "source": [
        "model.compile(loss = tf.keras.losses.BinaryCrossentropy() , optimizer='Adam' , metrics = 'accuracy')"
      ],
      "execution_count": 20,
      "outputs": []
    },
    {
      "cell_type": "code",
      "metadata": {
        "id": "-dti3nj4kNqL",
        "outputId": "2cc2896f-f328-4cdf-d26a-11ce7908fc05",
        "colab": {
          "base_uri": "https://localhost:8080/",
          "height": 377
        }
      },
      "source": [
        "history = model.fit(training_pad_seq,y_train,epochs = 10 ,validation_data=(testing_pad_seq,y_test))"
      ],
      "execution_count": 21,
      "outputs": [
        {
          "output_type": "stream",
          "text": [
            "Epoch 1/10\n",
            "1250/1250 [==============================] - 236s 189ms/step - loss: 0.6512 - accuracy: 0.6118 - val_loss: 0.6093 - val_accuracy: 0.6799\n",
            "Epoch 2/10\n",
            "1250/1250 [==============================] - 235s 188ms/step - loss: 0.5823 - accuracy: 0.6976 - val_loss: 0.5545 - val_accuracy: 0.7112\n",
            "Epoch 3/10\n",
            "1250/1250 [==============================] - 236s 189ms/step - loss: 0.5606 - accuracy: 0.7153 - val_loss: 0.5429 - val_accuracy: 0.7215\n",
            "Epoch 4/10\n",
            "1250/1250 [==============================] - 236s 189ms/step - loss: 0.5421 - accuracy: 0.7302 - val_loss: 0.5563 - val_accuracy: 0.7068\n",
            "Epoch 5/10\n",
            "1250/1250 [==============================] - 239s 191ms/step - loss: 0.5240 - accuracy: 0.7411 - val_loss: 0.5079 - val_accuracy: 0.7476\n",
            "Epoch 6/10\n",
            "1250/1250 [==============================] - 238s 191ms/step - loss: 0.5074 - accuracy: 0.7528 - val_loss: 0.5215 - val_accuracy: 0.7435\n",
            "Epoch 7/10\n",
            "1250/1250 [==============================] - 238s 190ms/step - loss: 0.4846 - accuracy: 0.7661 - val_loss: 0.4871 - val_accuracy: 0.7625\n",
            "Epoch 8/10\n",
            "1250/1250 [==============================] - 237s 189ms/step - loss: 0.4638 - accuracy: 0.7796 - val_loss: 0.4645 - val_accuracy: 0.7745\n",
            "Epoch 9/10\n",
            "1250/1250 [==============================] - 237s 190ms/step - loss: 0.4551 - accuracy: 0.7862 - val_loss: 0.4582 - val_accuracy: 0.7906\n",
            "Epoch 10/10\n",
            "1250/1250 [==============================] - 236s 189ms/step - loss: 0.4279 - accuracy: 0.8010 - val_loss: 0.4467 - val_accuracy: 0.7868\n"
          ],
          "name": "stdout"
        }
      ]
    },
    {
      "cell_type": "code",
      "metadata": {
        "id": "AMZlWRYNchOv",
        "outputId": "86a93884-28fa-4437-bfca-27918cb45b78",
        "colab": {
          "base_uri": "https://localhost:8080/",
          "height": 51
        }
      },
      "source": [
        "print(type(training_pad_seq))\n",
        "print(type(y_train))"
      ],
      "execution_count": 22,
      "outputs": [
        {
          "output_type": "stream",
          "text": [
            "<class 'numpy.ndarray'>\n",
            "<class 'numpy.ndarray'>\n"
          ],
          "name": "stdout"
        }
      ]
    },
    {
      "cell_type": "code",
      "metadata": {
        "id": "cVa2cpG-f3i8",
        "outputId": "67797c6c-813b-4a8d-e6d2-4bc1bf8a0746",
        "colab": {
          "base_uri": "https://localhost:8080/",
          "height": 51
        }
      },
      "source": [
        "print(type(testing_pad_seq))\n",
        "print(type(y_test))"
      ],
      "execution_count": 23,
      "outputs": [
        {
          "output_type": "stream",
          "text": [
            "<class 'numpy.ndarray'>\n",
            "<class 'numpy.ndarray'>\n"
          ],
          "name": "stdout"
        }
      ]
    },
    {
      "cell_type": "markdown",
      "metadata": {
        "id": "7LtRrI4Eccxd"
      },
      "source": [
        "plotting accuracies"
      ]
    },
    {
      "cell_type": "code",
      "metadata": {
        "id": "82CY-A1Vf_G9",
        "outputId": "a40aec3d-29cb-4ce7-93f9-4685a6a8a64d",
        "colab": {
          "base_uri": "https://localhost:8080/",
          "height": 545
        }
      },
      "source": [
        "acc = history.history['accuracy']\n",
        "val_acc = history.history['val_accuracy']\n",
        "loss = history.history['loss']\n",
        "val_loss = history.history['val_loss']\n",
        "epochs = range(len(acc))\n",
        "\n",
        "plt.plot(epochs, acc, 'r', label='Training accuracy')\n",
        "plt.plot(epochs, val_acc, 'b', label='Validation accuracy')\n",
        "plt.title('Training and validation accuracy')\n",
        "plt.legend(loc=0)\n",
        "plt.figure()\n",
        "\n",
        "plt.plot(epochs, loss, 'r', label='Training loss')\n",
        "plt.plot(epochs, val_loss, 'b', label='Validation loss')\n",
        "plt.title('Training and validation loss')\n",
        "plt.legend(loc=0)\n",
        "\n",
        "plt.show()"
      ],
      "execution_count": 24,
      "outputs": [
        {
          "output_type": "display_data",
          "data": {
            "image/png": "[encoded data removed]",
            "text/plain": [
              "<Figure size 432x288 with 1 Axes>"
            ]
          },
          "metadata": {
            "tags": [],
            "needs_background": "light"
          }
        },
        {
          "output_type": "display_data",
          "data": {
            "image/png": "[encoded data removed]",
            "text/plain": [
              "<Figure size 432x288 with 1 Axes>"
            ]
          },
          "metadata": {
            "tags": [],
            "needs_background": "light"
          }
        }
      ]
    }
  ]
}